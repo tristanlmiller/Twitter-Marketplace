{
 "cells": [
  {
   "cell_type": "markdown",
   "metadata": {},
   "source": [
    "# Initial exploration\n",
    "June 2018"
   ]
  },
  {
   "cell_type": "markdown",
   "metadata": {},
   "source": [
    "## Packages"
   ]
  },
  {
   "cell_type": "code",
   "execution_count": 7,
   "metadata": {
    "collapsed": true
   },
   "outputs": [],
   "source": [
    "import pandas as pd\n",
    "import numpy as np\n",
    "import matplotlib.pyplot as plt\n",
    "import sys\n",
    "%matplotlib inline"
   ]
  },
  {
   "cell_type": "markdown",
   "metadata": {},
   "source": [
    "## Loading/examining data"
   ]
  },
  {
   "cell_type": "code",
   "execution_count": 216,
   "metadata": {
    "collapsed": false
   },
   "outputs": [],
   "source": [
    "#load or update twitter_analysis module\n",
    "if 'twitter_analysis' in sys.modules:\n",
    "    del sys.modules['twitter_analysis'] \n",
    "from twitter_analysis import *"
   ]
  },
  {
   "cell_type": "code",
   "execution_count": 172,
   "metadata": {
    "collapsed": false
   },
   "outputs": [],
   "source": [
    "#Load data\n",
    "#convert datetime to appropriate format\n",
    "#add column 'hours' which is the datetime as a float, in units of hours\n",
    "df = prep_data()"
   ]
  },
  {
   "cell_type": "code",
   "execution_count": 27,
   "metadata": {
    "collapsed": false
   },
   "outputs": [
    {
     "name": "stdout",
     "output_type": "stream",
     "text": [
      "(86347, 9)\n"
     ]
    }
   ],
   "source": [
    "print(df.shape)"
   ]
  },
  {
   "cell_type": "code",
   "execution_count": 28,
   "metadata": {
    "collapsed": false
   },
   "outputs": [
    {
     "name": "stdout",
     "output_type": "stream",
     "text": [
      "campaign_id                                   3\n",
      "datetime             2018-04-24 04:55:28.976000\n",
      "campaign_spend                          34.5653\n",
      "campaign_budget                            1000\n",
      "matched_targeting           ['LANGUAGE', 'GEO']\n",
      "objective                          APP_INSTALLS\n",
      "charged                                       0\n",
      "seen_by_user                              False\n",
      "bid                                         1.5\n",
      "Name: 0, dtype: object\n"
     ]
    }
   ],
   "source": [
    "print(df.loc[0,:])"
   ]
  },
  {
   "cell_type": "code",
   "execution_count": 31,
   "metadata": {
    "collapsed": false
   },
   "outputs": [
    {
     "name": "stdout",
     "output_type": "stream",
     "text": [
      "[<class 'numpy.int64'>, <class 'str'>, <class 'numpy.float64'>, <class 'numpy.float64'>, <class 'str'>, <class 'str'>, <class 'numpy.float64'>, <class 'numpy.bool_'>, <class 'numpy.float64'>]\n"
     ]
    }
   ],
   "source": [
    "print([type(item) for item in df.loc[0,:]])"
   ]
  },
  {
   "cell_type": "code",
   "execution_count": 86,
   "metadata": {
    "collapsed": false
   },
   "outputs": [
    {
     "data": {
      "text/plain": [
       "1    25719\n",
       "4    17753\n",
       "2    17474\n",
       "3    13204\n",
       "7     7997\n",
       "5     2507\n",
       "6     1693\n",
       "Name: campaign_id, dtype: int64"
      ]
     },
     "execution_count": 86,
     "metadata": {},
     "output_type": "execute_result"
    }
   ],
   "source": [
    "df['campaign_id'].value_counts()"
   ]
  },
  {
   "cell_type": "markdown",
   "metadata": {
    "collapsed": true
   },
   "source": [
    "# Campaign spend"
   ]
  },
  {
   "cell_type": "code",
   "execution_count": 118,
   "metadata": {
    "collapsed": false
   },
   "outputs": [],
   "source": [
    "#load or update twitter_analysis module\n",
    "if 'twitter_analysis' in sys.modules:\n",
    "    del sys.modules['twitter_analysis'] \n",
    "from twitter_analysis import *"
   ]
  },
  {
   "cell_type": "code",
   "execution_count": 274,
   "metadata": {
    "collapsed": false
   },
   "outputs": [
    {
     "data": {
      "image/png": "[encoded data removed]",
      "text/plain": [
       "<matplotlib.figure.Figure at 0xb6455f8>"
      ]
     },
     "metadata": {},
     "output_type": "display_data"
    }
   ],
   "source": [
    "#First question: spend vs time\n",
    "spendvtime(df,2)"
   ]
  },
  {
   "cell_type": "markdown",
   "metadata": {},
   "source": [
    "The way the dates gets formatted automatically is pretty annoying.\n",
    "But the date is dense enough that I don't need to bother with the scatter plot."
   ]
  },
  {
   "cell_type": "code",
   "execution_count": 217,
   "metadata": {
    "collapsed": false,
    "scrolled": true
   },
   "outputs": [
    {
     "data": {
      "image/png": "[encoded data removed]",
      "text/plain": [
       "<matplotlib.figure.Figure at 0xa9734a8>"
      ]
     },
     "metadata": {},
     "output_type": "display_data"
    }
   ],
   "source": [
    "#now plot all the campaigns together\n",
    "spendvtime_all(df)"
   ]
  },
  {
   "cell_type": "markdown",
   "metadata": {},
   "source": [
    "# Campaign Info"
   ]
  },
  {
   "cell_type": "code",
   "execution_count": 268,
   "metadata": {
    "collapsed": false
   },
   "outputs": [],
   "source": [
    "#Let's create a table of information about the unique campaigns\n",
    "campaigns = pd.DataFrame(index=range(1,8))\n",
    "campaigns['budget'] = [df[df['campaign_id']==i]['campaign_budget'].iloc[0] for i in range(1,8)]\n",
    "campaigns['total spent'] = [df[df['campaign_id']==i]['campaign_spend'].iloc[-1] for i in range(1,8)]\n",
    "campaigns['bid'] = [df[df['campaign_id']==i]['bid'].iloc[0] for i in range(1,8)]\n",
    "campaigns['objective'] = [df[df['campaign_id']==i]['objective'].iloc[0] for i in range(1,8)]\n",
    "campaigns['targeting'] = [df[df['campaign_id']==i]['matched_targeting'].iloc[0] for i in range(1,8)]"
   ]
  },
  {
   "cell_type": "code",
   "execution_count": 269,
   "metadata": {
    "collapsed": false
   },
   "outputs": [
    {
     "data": {
      "text/html": [
       "<div>\n",
       "<table border=\"1\" class=\"dataframe\">\n",
       "  <thead>\n",
       "    <tr style=\"text-align: right;\">\n",
       "      <th></th>\n",
       "      <th>budget</th>\n",
       "      <th>total spent</th>\n",
       "      <th>bid</th>\n",
       "      <th>objective</th>\n",
       "      <th>targeting</th>\n",
       "    </tr>\n",
       "  </thead>\n",
       "  <tbody>\n",
       "    <tr>\n",
       "      <th>1</th>\n",
       "      <td>500.00</td>\n",
       "      <td>499.412728</td>\n",
       "      <td>7.50</td>\n",
       "      <td>WEBSITE_CLICKS</td>\n",
       "      <td>GEO</td>\n",
       "    </tr>\n",
       "    <tr>\n",
       "      <th>2</th>\n",
       "      <td>3550.00</td>\n",
       "      <td>1210.169699</td>\n",
       "      <td>1.15</td>\n",
       "      <td>WEBSITE_CLICKS</td>\n",
       "      <td>NaN</td>\n",
       "    </tr>\n",
       "    <tr>\n",
       "      <th>3</th>\n",
       "      <td>1000.00</td>\n",
       "      <td>61.002298</td>\n",
       "      <td>1.50</td>\n",
       "      <td>APP_INSTALLS</td>\n",
       "      <td>['LANGUAGE', 'GEO']</td>\n",
       "    </tr>\n",
       "    <tr>\n",
       "      <th>4</th>\n",
       "      <td>1167.00</td>\n",
       "      <td>115.240681</td>\n",
       "      <td>1.00</td>\n",
       "      <td>APP_INSTALLS</td>\n",
       "      <td>['GEO', 'GENDER']</td>\n",
       "    </tr>\n",
       "    <tr>\n",
       "      <th>5</th>\n",
       "      <td>170.00</td>\n",
       "      <td>169.471740</td>\n",
       "      <td>0.50</td>\n",
       "      <td>VIDEO_VIEWS</td>\n",
       "      <td>['AGE_BUCKET', 'GEO']</td>\n",
       "    </tr>\n",
       "    <tr>\n",
       "      <th>6</th>\n",
       "      <td>138.89</td>\n",
       "      <td>138.453629</td>\n",
       "      <td>0.05</td>\n",
       "      <td>VIDEO_VIEWS</td>\n",
       "      <td>['AGE_BUCKET', 'GEO']</td>\n",
       "    </tr>\n",
       "    <tr>\n",
       "      <th>7</th>\n",
       "      <td>1075.00</td>\n",
       "      <td>1073.198580</td>\n",
       "      <td>0.50</td>\n",
       "      <td>VIDEO_VIEWS</td>\n",
       "      <td>['GEO']</td>\n",
       "    </tr>\n",
       "  </tbody>\n",
       "</table>\n",
       "</div>"
      ],
      "text/plain": [
       "    budget  total spent   bid       objective              targeting\n",
       "1   500.00   499.412728  7.50  WEBSITE_CLICKS                    GEO\n",
       "2  3550.00  1210.169699  1.15  WEBSITE_CLICKS                    NaN\n",
       "3  1000.00    61.002298  1.50    APP_INSTALLS    ['LANGUAGE', 'GEO']\n",
       "4  1167.00   115.240681  1.00    APP_INSTALLS      ['GEO', 'GENDER']\n",
       "5   170.00   169.471740  0.50     VIDEO_VIEWS  ['AGE_BUCKET', 'GEO']\n",
       "6   138.89   138.453629  0.05     VIDEO_VIEWS  ['AGE_BUCKET', 'GEO']\n",
       "7  1075.00  1073.198580  0.50     VIDEO_VIEWS                ['GEO']"
      ]
     },
     "execution_count": 269,
     "metadata": {},
     "output_type": "execute_result"
    }
   ],
   "source": [
    "campaigns"
   ]
  },
  {
   "cell_type": "markdown",
   "metadata": {},
   "source": [
    "# Engagement"
   ]
  },
  {
   "cell_type": "markdown",
   "metadata": {},
   "source": [
    "Next I'll look at the engagement rate, defined as the rate at which a chargeable impression occurs.\n",
    "\n",
    "This definition is a little unclear to me.  At first I thought it was the rate over time, but it would make more sense if it was referring to the number of charged impressions divided by the number of seen impressions."
   ]
  },
  {
   "cell_type": "code",
   "execution_count": 227,
   "metadata": {
    "collapsed": false
   },
   "outputs": [],
   "source": [
    "#load or update twitter_analysis module\n",
    "if 'twitter_analysis' in sys.modules:\n",
    "    del sys.modules['twitter_analysis'] \n",
    "from twitter_analysis import *"
   ]
  },
  {
   "cell_type": "markdown",
   "metadata": {},
   "source": [
    "Here was my first calculation, looking at the number of charges per hour.  Not all charges are even included in the data, so instead I estimated it from the number of seen impressions."
   ]
  },
  {
   "cell_type": "code",
   "execution_count": 224,
   "metadata": {
    "collapsed": false,
    "scrolled": true
   },
   "outputs": [
    {
     "data": {
      "image/png": "[encoded data removed]",
      "text/plain": [
       "<matplotlib.figure.Figure at 0xad9cfd0>"
      ]
     },
     "metadata": {},
     "output_type": "display_data"
    }
   ],
   "source": [
    "engagementvtime2(df,1)"
   ]
  },
  {
   "cell_type": "code",
   "execution_count": 225,
   "metadata": {
    "collapsed": false
   },
   "outputs": [
    {
     "data": {
      "image/png": "[encoded data removed]",
      "text/plain": [
       "<matplotlib.figure.Figure at 0xa7ca128>"
      ]
     },
     "metadata": {},
     "output_type": "display_data"
    }
   ],
   "source": [
    "engagementvtime2(df,2)"
   ]
  },
  {
   "cell_type": "markdown",
   "metadata": {},
   "source": [
    "Now to calculate the real engagement rate, defined as the number of charges per seen impression.  This is much easier."
   ]
  },
  {
   "cell_type": "code",
   "execution_count": 228,
   "metadata": {
    "collapsed": false
   },
   "outputs": [
    {
     "name": "stdout",
     "output_type": "stream",
     "text": [
      "0.0384615384615\n"
     ]
    }
   ],
   "source": [
    "print(engagement_rate(df,1))"
   ]
  },
  {
   "cell_type": "code",
   "execution_count": 270,
   "metadata": {
    "collapsed": false
   },
   "outputs": [],
   "source": [
    "campaigns['engagement'] = np.zeros(7)\n",
    "for i in range(1,8):\n",
    "    campaigns.loc[i,'engagement'] = engagement_rate(df,i)"
   ]
  },
  {
   "cell_type": "code",
   "execution_count": 272,
   "metadata": {
    "collapsed": true
   },
   "outputs": [],
   "source": [
    "#could estimate ECPI too from this\n",
    "campaigns['ECPI'] = np.zeros(7)\n",
    "for i in range(1,8):\n",
    "    campaigns['ECPI'] = campaigns['bid']*campaigns['engagement']"
   ]
  },
  {
   "cell_type": "code",
   "execution_count": 273,
   "metadata": {
    "collapsed": false
   },
   "outputs": [
    {
     "data": {
      "text/html": [
       "<div>\n",
       "<table border=\"1\" class=\"dataframe\">\n",
       "  <thead>\n",
       "    <tr style=\"text-align: right;\">\n",
       "      <th></th>\n",
       "      <th>budget</th>\n",
       "      <th>total spent</th>\n",
       "      <th>bid</th>\n",
       "      <th>objective</th>\n",
       "      <th>targeting</th>\n",
       "      <th>engagement</th>\n",
       "      <th>ECPI</th>\n",
       "    </tr>\n",
       "  </thead>\n",
       "  <tbody>\n",
       "    <tr>\n",
       "      <th>1</th>\n",
       "      <td>500.00</td>\n",
       "      <td>499.412728</td>\n",
       "      <td>7.50</td>\n",
       "      <td>WEBSITE_CLICKS</td>\n",
       "      <td>GEO</td>\n",
       "      <td>0.038462</td>\n",
       "      <td>0.288462</td>\n",
       "    </tr>\n",
       "    <tr>\n",
       "      <th>2</th>\n",
       "      <td>3550.00</td>\n",
       "      <td>1210.169699</td>\n",
       "      <td>1.15</td>\n",
       "      <td>WEBSITE_CLICKS</td>\n",
       "      <td>NaN</td>\n",
       "      <td>0.007496</td>\n",
       "      <td>0.008621</td>\n",
       "    </tr>\n",
       "    <tr>\n",
       "      <th>3</th>\n",
       "      <td>1000.00</td>\n",
       "      <td>61.002298</td>\n",
       "      <td>1.50</td>\n",
       "      <td>APP_INSTALLS</td>\n",
       "      <td>['LANGUAGE', 'GEO']</td>\n",
       "      <td>0.025210</td>\n",
       "      <td>0.037815</td>\n",
       "    </tr>\n",
       "    <tr>\n",
       "      <th>4</th>\n",
       "      <td>1167.00</td>\n",
       "      <td>115.240681</td>\n",
       "      <td>1.00</td>\n",
       "      <td>APP_INSTALLS</td>\n",
       "      <td>['GEO', 'GENDER']</td>\n",
       "      <td>0.003472</td>\n",
       "      <td>0.003472</td>\n",
       "    </tr>\n",
       "    <tr>\n",
       "      <th>5</th>\n",
       "      <td>170.00</td>\n",
       "      <td>169.471740</td>\n",
       "      <td>0.50</td>\n",
       "      <td>VIDEO_VIEWS</td>\n",
       "      <td>['AGE_BUCKET', 'GEO']</td>\n",
       "      <td>0.338462</td>\n",
       "      <td>0.169231</td>\n",
       "    </tr>\n",
       "    <tr>\n",
       "      <th>6</th>\n",
       "      <td>138.89</td>\n",
       "      <td>138.453629</td>\n",
       "      <td>0.05</td>\n",
       "      <td>VIDEO_VIEWS</td>\n",
       "      <td>['AGE_BUCKET', 'GEO']</td>\n",
       "      <td>0.219436</td>\n",
       "      <td>0.010972</td>\n",
       "    </tr>\n",
       "    <tr>\n",
       "      <th>7</th>\n",
       "      <td>1075.00</td>\n",
       "      <td>1073.198580</td>\n",
       "      <td>0.50</td>\n",
       "      <td>VIDEO_VIEWS</td>\n",
       "      <td>['GEO']</td>\n",
       "      <td>0.348185</td>\n",
       "      <td>0.174092</td>\n",
       "    </tr>\n",
       "  </tbody>\n",
       "</table>\n",
       "</div>"
      ],
      "text/plain": [
       "    budget  total spent   bid       objective              targeting  \\\n",
       "1   500.00   499.412728  7.50  WEBSITE_CLICKS                    GEO   \n",
       "2  3550.00  1210.169699  1.15  WEBSITE_CLICKS                    NaN   \n",
       "3  1000.00    61.002298  1.50    APP_INSTALLS    ['LANGUAGE', 'GEO']   \n",
       "4  1167.00   115.240681  1.00    APP_INSTALLS      ['GEO', 'GENDER']   \n",
       "5   170.00   169.471740  0.50     VIDEO_VIEWS  ['AGE_BUCKET', 'GEO']   \n",
       "6   138.89   138.453629  0.05     VIDEO_VIEWS  ['AGE_BUCKET', 'GEO']   \n",
       "7  1075.00  1073.198580  0.50     VIDEO_VIEWS                ['GEO']   \n",
       "\n",
       "   engagement      ECPI  \n",
       "1    0.038462  0.288462  \n",
       "2    0.007496  0.008621  \n",
       "3    0.025210  0.037815  \n",
       "4    0.003472  0.003472  \n",
       "5    0.338462  0.169231  \n",
       "6    0.219436  0.010972  \n",
       "7    0.348185  0.174092  "
      ]
     },
     "execution_count": 273,
     "metadata": {},
     "output_type": "execute_result"
    }
   ],
   "source": [
    "campaigns"
   ]
  },
  {
   "cell_type": "markdown",
   "metadata": {},
   "source": [
    "# Rate of seen ads"
   ]
  },
  {
   "cell_type": "code",
   "execution_count": 284,
   "metadata": {
    "collapsed": false
   },
   "outputs": [],
   "source": [
    "#Given that an ad gets served, how likely is it to be seen?\n",
    "campaigns['ads seen'] = np.zeros(7)\n",
    "for i in range(1,8):\n",
    "    campaigns.loc[i,'ads seen'] = np.sum(df[df['campaign_id'] == i]['seen_by_user']) / np.sum(df['campaign_id'] == i)"
   ]
  },
  {
   "cell_type": "code",
   "execution_count": 285,
   "metadata": {
    "collapsed": false
   },
   "outputs": [
    {
     "data": {
      "text/html": [
       "<div>\n",
       "<table border=\"1\" class=\"dataframe\">\n",
       "  <thead>\n",
       "    <tr style=\"text-align: right;\">\n",
       "      <th></th>\n",
       "      <th>budget</th>\n",
       "      <th>total spent</th>\n",
       "      <th>bid</th>\n",
       "      <th>objective</th>\n",
       "      <th>targeting</th>\n",
       "      <th>engagement</th>\n",
       "      <th>ECPI</th>\n",
       "      <th>ads seen</th>\n",
       "    </tr>\n",
       "  </thead>\n",
       "  <tbody>\n",
       "    <tr>\n",
       "      <th>1</th>\n",
       "      <td>500.00</td>\n",
       "      <td>499.412728</td>\n",
       "      <td>7.50</td>\n",
       "      <td>WEBSITE_CLICKS</td>\n",
       "      <td>GEO</td>\n",
       "      <td>0.038462</td>\n",
       "      <td>0.288462</td>\n",
       "      <td>0.123333</td>\n",
       "    </tr>\n",
       "    <tr>\n",
       "      <th>2</th>\n",
       "      <td>3550.00</td>\n",
       "      <td>1210.169699</td>\n",
       "      <td>1.15</td>\n",
       "      <td>WEBSITE_CLICKS</td>\n",
       "      <td>NaN</td>\n",
       "      <td>0.007496</td>\n",
       "      <td>0.008621</td>\n",
       "      <td>0.229026</td>\n",
       "    </tr>\n",
       "    <tr>\n",
       "      <th>3</th>\n",
       "      <td>1000.00</td>\n",
       "      <td>61.002298</td>\n",
       "      <td>1.50</td>\n",
       "      <td>APP_INSTALLS</td>\n",
       "      <td>['LANGUAGE', 'GEO']</td>\n",
       "      <td>0.025210</td>\n",
       "      <td>0.037815</td>\n",
       "      <td>0.036050</td>\n",
       "    </tr>\n",
       "    <tr>\n",
       "      <th>4</th>\n",
       "      <td>1167.00</td>\n",
       "      <td>115.240681</td>\n",
       "      <td>1.00</td>\n",
       "      <td>APP_INSTALLS</td>\n",
       "      <td>['GEO', 'GENDER']</td>\n",
       "      <td>0.003472</td>\n",
       "      <td>0.003472</td>\n",
       "      <td>0.064890</td>\n",
       "    </tr>\n",
       "    <tr>\n",
       "      <th>5</th>\n",
       "      <td>170.00</td>\n",
       "      <td>169.471740</td>\n",
       "      <td>0.50</td>\n",
       "      <td>VIDEO_VIEWS</td>\n",
       "      <td>['AGE_BUCKET', 'GEO']</td>\n",
       "      <td>0.338462</td>\n",
       "      <td>0.169231</td>\n",
       "      <td>0.181492</td>\n",
       "    </tr>\n",
       "    <tr>\n",
       "      <th>6</th>\n",
       "      <td>138.89</td>\n",
       "      <td>138.453629</td>\n",
       "      <td>0.05</td>\n",
       "      <td>VIDEO_VIEWS</td>\n",
       "      <td>['AGE_BUCKET', 'GEO']</td>\n",
       "      <td>0.219436</td>\n",
       "      <td>0.010972</td>\n",
       "      <td>0.188423</td>\n",
       "    </tr>\n",
       "    <tr>\n",
       "      <th>7</th>\n",
       "      <td>1075.00</td>\n",
       "      <td>1073.198580</td>\n",
       "      <td>0.50</td>\n",
       "      <td>VIDEO_VIEWS</td>\n",
       "      <td>['GEO']</td>\n",
       "      <td>0.348185</td>\n",
       "      <td>0.174092</td>\n",
       "      <td>0.227335</td>\n",
       "    </tr>\n",
       "  </tbody>\n",
       "</table>\n",
       "</div>"
      ],
      "text/plain": [
       "    budget  total spent   bid       objective              targeting  \\\n",
       "1   500.00   499.412728  7.50  WEBSITE_CLICKS                    GEO   \n",
       "2  3550.00  1210.169699  1.15  WEBSITE_CLICKS                    NaN   \n",
       "3  1000.00    61.002298  1.50    APP_INSTALLS    ['LANGUAGE', 'GEO']   \n",
       "4  1167.00   115.240681  1.00    APP_INSTALLS      ['GEO', 'GENDER']   \n",
       "5   170.00   169.471740  0.50     VIDEO_VIEWS  ['AGE_BUCKET', 'GEO']   \n",
       "6   138.89   138.453629  0.05     VIDEO_VIEWS  ['AGE_BUCKET', 'GEO']   \n",
       "7  1075.00  1073.198580  0.50     VIDEO_VIEWS                ['GEO']   \n",
       "\n",
       "   engagement      ECPI  ads seen  \n",
       "1    0.038462  0.288462  0.123333  \n",
       "2    0.007496  0.008621  0.229026  \n",
       "3    0.025210  0.037815  0.036050  \n",
       "4    0.003472  0.003472  0.064890  \n",
       "5    0.338462  0.169231  0.181492  \n",
       "6    0.219436  0.010972  0.188423  \n",
       "7    0.348185  0.174092  0.227335  "
      ]
     },
     "execution_count": 285,
     "metadata": {},
     "output_type": "execute_result"
    }
   ],
   "source": [
    "campaigns"
   ]
  },
  {
   "cell_type": "markdown",
   "metadata": {},
   "source": [
    "# Discussion"
   ]
  },
  {
   "cell_type": "markdown",
   "metadata": {},
   "source": [
    "One thing we can see from the table above, is that engagement rates are about 10 times higher for video views than for website clicks or app installs.  Accordingly, the amount they need to bid should be about 10 times smaller, if they are to compete in the same market.\n",
    "\n",
    "I also see that most campaigns budget for about 1000-3000 clicks/views/installs per day.  Campaign 1 and 5 are outliers in this respect.  I wouldn't be surprised if this is the result of an anchoring effect (ie Twitter suggests budgeting for 1000 engagements per day, and clients adjust their expectations based on that).\n",
    "\n"
   ]
  },
  {
   "cell_type": "markdown",
   "metadata": {},
   "source": [
    "Finally, I look at the pacing of each campaign.  It seems that most campaigns either spend their whole budget, or only spend a tiny fraction (with the exception of campaign 2).  You might say that some campaigns have \"won\" the auction, and others have \"lost\".  Interestingly, this seems related to the ECPI, but isn't completely determined by it (eg campaign 6 spends most of its budget despite a really low ECPI).  Actually I suppose this isn't the real ECPI, since it only uses data from auctions they actually won."
   ]
  },
  {
   "cell_type": "code",
   "execution_count": null,
   "metadata": {
    "collapsed": true
   },
   "outputs": [],
   "source": []
  }
 ],
 "metadata": {
  "anaconda-cloud": {},
  "kernelspec": {
   "display_name": "Python [Root]",
   "language": "python",
   "name": "Python [Root]"
  },
  "language_info": {
   "codemirror_mode": {
    "name": "ipython",
    "version": 3
   },
   "file_extension": ".py",
   "mimetype": "text/x-python",
   "name": "python",
   "nbconvert_exporter": "python",
   "pygments_lexer": "ipython3",
   "version": "3.5.1"
  }
 },
 "nbformat": 4,
 "nbformat_minor": 0
}
